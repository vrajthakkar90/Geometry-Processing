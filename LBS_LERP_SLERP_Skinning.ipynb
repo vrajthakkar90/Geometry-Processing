{
 "cells": [
  {
   "cell_type": "markdown",
   "id": "f4781b3a",
   "metadata": {},
   "source": [
    "***\n",
    "# IT575 - Computational Shape Modeling\n",
    "## Mesh Deformation using Skinning - November 11, 2024\n",
    "### Group no. $\\underline{\\hspace{1in}}$\n",
    "### Member 1 Name: $\\underline{\\hspace{1in}Vraj Thakkar}$, Member 1 ID: $\\underline{\\hspace{1in}202103052}$\n",
    "### Member 2 Name: $\\underline{\\hspace{1in}Dhruv Shah}$, Member 2 ID: $\\underline{\\hspace{1in}202103017}$\n",
    "***"
   ]
  },
  {
   "cell_type": "code",
   "execution_count": 1,
   "id": "0143b42b",
   "metadata": {},
   "outputs": [],
   "source": [
    "# Import IGL and required functions\n",
    "import igl\n",
    "import numpy as np\n",
    "from meshplot import plot, subplot, interact\n",
    "import meshplot as mp\n",
    "import matplotlib.pyplot as plt\n",
    "from mat4py import loadmat"
   ]
  },
  {
   "cell_type": "markdown",
   "id": "44e6dfcf",
   "metadata": {},
   "source": [
    "### Run the code below to plot the meshes\n",
    "#### Help for Meshplot: https://skoch9.github.io/meshplot/tutorial/ \n",
    "#### Help for Libigl in Python: https://libigl.github.io/libigl-python-bindings/"
   ]
  },
  {
   "cell_type": "code",
   "execution_count": 2,
   "id": "ce497230",
   "metadata": {
    "scrolled": true
   },
   "outputs": [
    {
     "name": "stdout",
     "output_type": "stream",
     "text": [
      "Error: bad line (0)\n"
     ]
    },
    {
     "data": {
      "application/vnd.jupyter.widget-view+json": {
       "model_id": "94dfd63f3fc541db910adb001cc4d1ce",
       "version_major": 2,
       "version_minor": 0
      },
      "text/plain": [
       "Renderer(camera=PerspectiveCamera(children=(DirectionalLight(color='white', intensity=0.6, position=(0.0, 0.0,…"
      ]
     },
     "metadata": {},
     "output_type": "display_data"
    },
    {
     "name": "stdout",
     "output_type": "stream",
     "text": [
      "Invalid color array given! Supported are numpy arrays. <class 'numpy.ndarray'>\n"
     ]
    },
    {
     "data": {
      "text/plain": [
       "1"
      ]
     },
     "execution_count": 2,
     "metadata": {},
     "output_type": "execute_result"
    }
   ],
   "source": [
    "# Uncomment the one that you wish to plot\n",
    "###### Cylinder #############\n",
    "dt = igl.read_off(\"cylinder.off\")\n",
    "h = [4800,4801] # Handles for Cylinder\n",
    "#############################\n",
    "###### Cactus ###############\n",
    "# dt = igl.read_off(\"cactus.off\")\n",
    "# h = [2233,4558,3020,1796] # Handles for Cactus\n",
    "#############################\n",
    "v = dt[0]\n",
    "f = dt[1]\n",
    "p=plot(v, f,return_plot=True)\n",
    "p.add_points(v[h,:], c=np.array([1.0,0.0,0.0]), shading={\"point_size\": 1}) # point_size 1 for Cylinder, 0.05 for Cactus"
   ]
  },
  {
   "cell_type": "code",
   "execution_count": 3,
   "id": "0b435a89",
   "metadata": {},
   "outputs": [],
   "source": [
    "#######################################################################################\n",
    "# Skinning Weights-------------\n",
    "# Input: h - array containing handle indices\n",
    "#        v - nov x 3 array containing vertex coordinates in each row. nov is the number of vertices in the \n",
    "#            mesh.\n",
    "#        f - nof x 3 array containing indices of the array 'v', each row of f points to vertices \n",
    "#            of a triangle in the mesh\n",
    "#     wttype - If wttype = 'InvDist' it will compute Inverse Euclidean distance based weights. Else, it will \n",
    "#            load pre-computed BBW weights for either Cylinder or Cactus mesh with handles h=[4800, 4801]\n",
    "#              (bottom, top) for Cylinder, h=[2233,4558,3020, 1796],i.e, bottom, top, left and right tips\n",
    "#              for Cactus.\n",
    "# Output: w - nov x noh matrix, nov is the number of vertices, noh is the number of handles. Each column \n",
    "#             corresponds to the weight associated with one handle over the entire mesh.\n",
    "#######################################################################################\n",
    "def skinningweights(h,v,f,wttype):\n",
    "    noh = len(h)\n",
    "    nov = v.shape[0]\n",
    "    W = np.zeros((nov,noh))\n",
    "    if wttype == 'InvDist':\n",
    "        for i in np.arange(noh):\n",
    "            W[:,i] = 1/(1+np.linalg.norm(v - v[h[i],:],axis=1))\n",
    "        for i in np.arange(nov):\n",
    "            W[i,:] = W[i,:]/(np.sum(W[i,:]))\n",
    "    else:\n",
    "        ############################################################\n",
    "        # Else use Bounded-Biharmonic Weights. These weights have been pre-computed and saved for Cylinder\n",
    "        # and Cactus meshes in the files: BBW_cylinder.mat and BBW_cactus.mat. These MATLAB files can be \n",
    "        # loaded in python using the function 'loadmat'.\n",
    "        # Note that for Cylinder the handles are H=[4800, 4801](bottom, top), for Cactus the handles are \n",
    "        #H = [2233,4558,3020, 1796],i.e, bottom, top, left and right tips.\n",
    "        ############################################################\n",
    "        data = loadmat('BBW_cylinder.mat') # Uncomment to load BBW weights for Cylinder mesh,\n",
    "        #data = loadmat('BBW_cactus.mat') # Uncomment to load BBW weights for Cactus mesh,\n",
    "        H = np.array(data['H'])\n",
    "        W = np.array(data['w'])\n",
    "    return W                 "
   ]
  },
  {
   "cell_type": "markdown",
   "id": "09ce82a4",
   "metadata": {},
   "source": [
    "#### Q.1. Display the mesh with vertex color defined by Skinning weights. Try out Cylinder and Cactus mesh with Inverse Distance and Bounded Biharmonic Weights, and make your observations"
   ]
  },
  {
   "cell_type": "code",
   "execution_count": 4,
   "id": "f7c343cc",
   "metadata": {},
   "outputs": [
    {
     "name": "stdout",
     "output_type": "stream",
     "text": [
      "Error: bad line (0)\n"
     ]
    },
    {
     "data": {
      "application/vnd.jupyter.widget-view+json": {
       "model_id": "48164dbaac3146f19233d81b8b9b089f",
       "version_major": 2,
       "version_minor": 0
      },
      "text/plain": [
       "Renderer(camera=PerspectiveCamera(children=(DirectionalLight(color='white', intensity=0.6, position=(0.0, 0.0,…"
      ]
     },
     "metadata": {},
     "output_type": "display_data"
    },
    {
     "name": "stdout",
     "output_type": "stream",
     "text": [
      "Invalid color array given! Supported are numpy arrays. <class 'numpy.ndarray'>\n"
     ]
    },
    {
     "data": {
      "text/plain": [
       "1"
      ]
     },
     "execution_count": 4,
     "metadata": {},
     "output_type": "execute_result"
    }
   ],
   "source": [
    "# Uncomment the one that you wish to plot\n",
    "###### Cylinder #############\n",
    "dt = igl.read_off(\"cylinder.off\")\n",
    "h = [4800,4801] # Handles for Cylinder\n",
    "#############################\n",
    "###### Cactus ###############\n",
    "# dt = igl.read_off(\"cactus.off\")\n",
    "# h = [2233,4558,3020, 1796] # Handles for Cactus\n",
    "#############################\n",
    "\n",
    "### Skinning Weights --------------\n",
    "w = skinningweights(h,v,f,'InvDist') # Uncomment for Inverse Distance weights\n",
    "#w = skinningweights(h,v,f,'BBW') # Uncomment for BBW weights\n",
    "######################################\n",
    "\n",
    "### Display meshes------------------------------\n",
    "p=plot(v,f,c=w[:,0]) # Color is given as per the weights of the first handle. \n",
    "p.add_points(v[h,:], c=np.array([1.0,0.0,0.0]), shading={\"point_size\": 1}) # point_size 1 for Cylinder, 0.05 for Cactus\n",
    "#################################################"
   ]
  },
  {
   "cell_type": "markdown",
   "id": "14d66686",
   "metadata": {},
   "source": [
    "#### Q.2 In the following cell, there are some basic operations you will require in terms of rotation matrices and quaternions. Complete the functions as per the description given for each function"
   ]
  },
  {
   "cell_type": "code",
   "execution_count": 20,
   "id": "4a62670a",
   "metadata": {},
   "outputs": [],
   "source": [
    "#####################################################################\n",
    "# Convert axis-angle representation to 3 x 3 Rotation matrix\n",
    "# Rodrigues formula {R = I + sin(theta)*[n]x+ (1-cos(theta)) (Nx x Nx )}, where x denotes Vector cross product.\n",
    "# Input: \n",
    "#     theta: Angle of rotation. Scalar\n",
    "#     n    : Axis of rotation. 3x1 vector\n",
    "# Output: \n",
    "#     R    : 3x3 Rotation matrix \n",
    "#####################################################################\n",
    "def RodriguesRotation(theta,n):\n",
    "    # Use Rodrigues' rotation formula to obtain R from axis angle representation.\n",
    "    # Write your code here\n",
    "    I = np.eye(3)\n",
    "    nx = np.zeros((3,3))\n",
    "    nx[0,1] = -n[2]\n",
    "    nx[0,2] = n[1]\n",
    "    nx[1,0] = n[2]\n",
    "    nx[1,2] = -n[0]\n",
    "    nx[2,0] = -n[1]\n",
    "    nx[2,1] = n[0]\n",
    "    R = I + np.sin(theta)*nx + (1-np.cos(theta))*np.matmul(nx,nx)\n",
    "    return R\n",
    "#####################################################################\n",
    "# Multiplication of two quaternions.    \n",
    "# Input: q1, q2 - (4,1) vectors to be multiplied\n",
    "# Output: product of the two quaternions\n",
    "#####################################################################\n",
    "def qmult(q1, q2):\n",
    "    # Compute quaternion product.\n",
    "    real= q1[0]*q2[0] - np.dot(q1[1:4],q2[1:4])\n",
    "    imag = q1[0]*q2[1:4] + q2[0]*q1[1:4] + np.cross(q1[1:4],q2[1:4])\n",
    "    q = np.zeros(4)\n",
    "    q[0] = real\n",
    "    q[1:4] = imag\n",
    "    return q\n",
    "    \n",
    "#####################################################################\n",
    "# Quaternion transformation q application to a vector v\n",
    "# Input: q - Unit quaternion that encodes the transformation to be applied\n",
    "#        v - the 3 x 1 vertex coordinates on which the transformation encoded in q has to be applied.\n",
    "# Output: defv = q . v . q*. is a 3 x 1 vector of coordinates of deformed vertex.\n",
    "#####################################################################\n",
    "def myQuatonv(q,v):\n",
    "    # compute defv = q*v*q^*, and return the vector part as defv.\n",
    "    qv = np.zeros(4)\n",
    "    qv[1:4] = v\n",
    "    qc = np.zeros(4)\n",
    "    qc[0]= q[0]\n",
    "    qc[1:4] = -q[1:4]\n",
    "    defv = qmult(qmult(q,qv),qc)\n",
    "    return defv[1:4]\n",
    "\n",
    "######################################################################\n",
    "# Unit Quaternion log\n",
    "# Input: q - Unit quaternion\n",
    "# Ouput: logq - Log of the unit quaternion of the form [0;theta * axis] - 4 x 1 vector\n",
    "######################################################################\n",
    "def myQlog(q):\n",
    "    # Compute theta and axis n. Return [0;theta * axis]\n",
    "    q = q/np.linalg.norm(q)\n",
    "    theta = np.arccos(q[0])\n",
    "    if np.isclose(theta, 0) or np.isclose(theta, np.pi):\n",
    "        n = np.zeros(3)\n",
    "    else:\n",
    "        n = q[1:4] / np.sin(theta)\n",
    "    logq = np.zeros(4)\n",
    "    logq[0] = 0\n",
    "    logq[1:4] = theta*n\n",
    "    return logq\n",
    "\n",
    "######################################################################\n",
    "# Quaternion Exponential of a quaternion of the form [0;theta*axis]\n",
    "# Input: q - Quaternion of the form [0;theta *axis] - 4 x 1 vector\n",
    "# Ouput: expq - Exp of the quaternion, of the form [cos(theta);sin(theta)*axis] - 4 x 1 vector. Should be a\n",
    "#               unit quaternion.\n",
    "######################################################################\n",
    "def myQexp(logq):\n",
    "    # Compute theta and axis, and then compute the exp.\n",
    "    logq = np.array(logq)\n",
    "    theta = np.linalg.norm(logq[1:4])\n",
    "    if np.isclose(theta, 0):\n",
    "        expq = np.zeros(4)\n",
    "        expq[0] = 1\n",
    "    else:\n",
    "        n = logq[1:4] / theta\n",
    "        expq = np.zeros(4)\n",
    "        expq[0] = np.cos(theta)\n",
    "        expq[1:4] = np.sin(theta) * n\n",
    "    return expq\n",
    "## Q.2. The following code implements blending of matrices, followed by applying the blended matrices on the original mesh vertices, and returns the deformed vertices. It linearly blends transformations or quaternions, as per the user input. Complete the code.\n",
    "\n",
    "#####################################################################\n",
    "# Quaternion to 3D rotation\n",
    "# Input: q - Input unit quaternion as (4x1) vector that is to be converted into 3 x 3 matrix.\n",
    "# Output: R - 3 x 3 rotation matrix.\n",
    "#####################################################################\n",
    "def myQtoSO3(q):\n",
    "    T = np.zeros((3,3))\n",
    "    sintby2 = np.linalg.norm(q[1:len(q)])\n",
    "    costby2 = q[0]\n",
    "    theta = 2*np.arctan2(sintby2,costby2)\n",
    "    if np.abs(sintby2) < 1e-14:\n",
    "        eta = q[1:len(q)]\n",
    "    else:\n",
    "        eta = q[1:len(q)]/sintby2\n",
    "    R = RodriguesRotation(theta,eta)\n",
    "    return R"
   ]
  },
  {
   "cell_type": "markdown",
   "id": "22ec3f16",
   "metadata": {},
   "source": [
    "#### Q.3. The following code implements blending of rotations, using matrices or quaternions, followed by applying the blended matrices/quaternions on the original mesh vertices, and returns the deformed vertices. It linearly blends transformations or quaternions, as per the user input. Complete the code."
   ]
  },
  {
   "cell_type": "code",
   "execution_count": 37,
   "id": "e5a2c86b",
   "metadata": {},
   "outputs": [],
   "source": [
    "#############################################\n",
    "# Blends the weights and Handle transformations to obtain per vertex transformation, \n",
    "# which is then applied to vertices of the input mesh to obtain the deformed Mesh\n",
    "# Input: w - nov(number of vert.) x noh(number of handles) matrix, each column containing \n",
    "#            weights of corresponding handles\n",
    "#        H - (noh,) array. Indices of handle vertices from the vertices (v) array\n",
    "#        v - (nov,3) array containing vertex coordinates in each row\n",
    "#      eta - is expected as a 3 x noh matrix, each column containing the axis of rotation transformation\n",
    "#            to be applied to the corresponding handle.\n",
    "#     theta - is expected as a (noh,) array containing the angles of rotations in radians to be applied to \n",
    "#            corresponding handles.\n",
    "#       typ - If typ = 'LBS', the function implements Linear Blend Skinning, if typ = 'LERP' it implements \n",
    "#             Linear Blending of Quaternions, else it implements SLERP.\n",
    "# Output: DefV - is a nov x 3 array containing coordinates of the deformed mesh. We assume same connectivity \n",
    "#             as that of the input mesh.\n",
    "#############################################\n",
    "def BlendWT(w,H,v,eta,theta,typ):\n",
    "    nov = w.shape[0]\n",
    "    noh = len(H)\n",
    "    Tv = np.zeros((3,3,nov))\n",
    "    DefV = np.zeros((nov,3))\n",
    "            \n",
    "    if typ=='LBS':\n",
    "        T = np.zeros((3,3,noh))\n",
    "        for i in np.arange(noh):\n",
    "            # Convert axis-angle representation to matrix representation.\n",
    "            # Fill in your code below.\n",
    "            T[:,:,i] = RodriguesRotation(theta[i],eta[:,i])\n",
    "        for i in np.arange(nov):\n",
    "            # Perform LBS below\n",
    "            # Fill in your code below.\n",
    "            Tv[:,:,i] = np.sum(w[i,:]*T,axis=2)\n",
    "            # Apply the blended transformation to each vertex of original mesh.\n",
    "            # Fill in your code below.\n",
    "            DefV[i,:] =  Tv[:,:,i]@v[i,:]\n",
    "            \n",
    "    elif typ=='LERP': #Linear Blending of Unit Quaternions\n",
    "        q = np.zeros((4,noh))\n",
    "        for i in np.arange(noh):\n",
    "            q[:,i] = np.append([np.cos(theta[i]/2)],[np.sin(theta[i]/2)*eta[:,i]])\n",
    "                \n",
    "        qv = np.zeros((4,nov))\n",
    "        for i in np.arange(nov):\n",
    "            # Perform linear blending of quaternions\n",
    "            # Fill in your code below.\n",
    "            #qv[:,i] = np.sum(w[i,:]*q,axis=1)\n",
    "            qv[:,i] = w[i,:]@q.T\n",
    "            #Below segment normalizes the quaternion to obtain unit quaternions.\n",
    "            if np.linalg.norm(qv[:,i]) < 1e-15:\n",
    "                qv[:,i] = qv[:,i]\n",
    "            else:\n",
    "                qv[:,i] = qv[:,i]/np.linalg.norm(qv[:,i])\n",
    "            #Apply transformation encoded as quaternion to corresponding vertex of original mesh\n",
    "            # to obtain Deformed mesh vertex. Fill in your code below.\n",
    "            #Tv = myQtoSO3(qv[:,i])\n",
    "            #DefV[i,:] = Tv@v[i,:]\n",
    "            DefV[i,:] = myQuatonv(qv[:,i],v[i,:])\n",
    "    else: # SLERP\n",
    "        q = np.zeros((4,noh))\n",
    "        for i in np.arange(noh):\n",
    "            q[:,i] = np.append([np.cos(theta[i]/2)],[np.sin(theta[i]/2)*eta[:,i]])\n",
    "        qv = np.zeros((4,nov))\n",
    "        for i in np.arange(nov):\n",
    "            # Perform SLERP\n",
    "            # Fill in your code below\n",
    "            qcm = np.array([1,0,0,0])\n",
    "            for j in np.arange(noh):\n",
    "                prem = qcm\n",
    "                prem[1:4] = -1*qcm[1:4]\n",
    "                q1q2 = qmult(prem,q[:,j])\n",
    "                qc = myQexp(w[i,j]*myQlog(q1q2))\n",
    "                qcm = qmult(qcm,qc)\n",
    "            qv[:,i] = qcm/np.linalg.norm(qcm)\n",
    "            #Apply transformation encoded as quaternion to corresponding vertex of original mesh\n",
    "            # to obtain Deformed mesh vertex. Fill in your code below.\n",
    "            # Tv = myQtoSO3(qv[:,i])\n",
    "            # DefV[i,:] = Tv@v[i,:]\n",
    "            DefV[i,:] = myQuatonv(qv[:,i],v[i,:])\n",
    "    return DefV\n",
    "    "
   ]
  },
  {
   "cell_type": "markdown",
   "id": "90cbc354",
   "metadata": {},
   "source": [
    "#### Q.4 . Try out some deformations using Skinning on Cylinder Mesh, with LBS, LERP and SLERP"
   ]
  },
  {
   "cell_type": "code",
   "execution_count": 40,
   "id": "aed2412b",
   "metadata": {},
   "outputs": [
    {
     "name": "stdout",
     "output_type": "stream",
     "text": [
      "Error: bad line (0)\n"
     ]
    },
    {
     "data": {
      "application/vnd.jupyter.widget-view+json": {
       "model_id": "5a9d7e33f3d54b41b32ed1670aac4034",
       "version_major": 2,
       "version_minor": 0
      },
      "text/plain": [
       "Renderer(camera=PerspectiveCamera(children=(DirectionalLight(color='white', intensity=0.6, position=(0.0, 0.0,…"
      ]
     },
     "metadata": {},
     "output_type": "display_data"
    },
    {
     "data": {
      "application/vnd.jupyter.widget-view+json": {
       "model_id": "dd57dcad7b0745009b549c2dcbd74856",
       "version_major": 2,
       "version_minor": 0
      },
      "text/plain": [
       "Renderer(camera=PerspectiveCamera(children=(DirectionalLight(color='white', intensity=0.6, position=(-2.086162…"
      ]
     },
     "metadata": {},
     "output_type": "display_data"
    },
    {
     "data": {
      "text/plain": [
       "<meshplot.Viewer.Viewer at 0x10fc01730>"
      ]
     },
     "execution_count": 40,
     "metadata": {},
     "output_type": "execute_result"
    }
   ],
   "source": [
    "#### Read Mesh #########\n",
    "dt = igl.read_off(\"cylinder.off\")\n",
    "v = dt[0]\n",
    "f = dt[1]\n",
    "plot(v,f)\n",
    "#################################\n",
    "#### Handles and Handle deformations ########\n",
    "h = np.array([4800,4801])\n",
    "eta = np.array([[0,0,1],[0,0,1]]).T\n",
    "theta = np.array([0,np.pi])\n",
    "#################################\n",
    "##### Skinning Weights##########\n",
    "w = skinningweights(h,v,f,'InvDist') # Uncomment for InvDist weights\n",
    "#w = skinningweights(h,v,f,'BBW') # Uncomment for BBW weights\n",
    "#defv = BlendWT(w,h,v,eta,theta,'LBS')  # Uncomment for LBS blending\n",
    "#defv = BlendWT(w,h,v,eta,theta,'LERP') # Uncomment for LERP\n",
    "defv = BlendWT(w,h,v,eta,theta,'SLERP') # Uncomment for SLERP\n",
    "plot(defv,f)"
   ]
  },
  {
   "cell_type": "markdown",
   "id": "68360379",
   "metadata": {},
   "source": [
    "#### Q.5. Try out some deformations using Skinning on Cactus Mesh using LBS, LERP and SLERP"
   ]
  },
  {
   "cell_type": "code",
   "execution_count": 39,
   "id": "61e1ddf7",
   "metadata": {},
   "outputs": [
    {
     "data": {
      "application/vnd.jupyter.widget-view+json": {
       "model_id": "c0a6fb37e3944f60afd7eefc9266214c",
       "version_major": 2,
       "version_minor": 0
      },
      "text/plain": [
       "Renderer(camera=PerspectiveCamera(children=(DirectionalLight(color='white', intensity=0.6, position=(0.5000501…"
      ]
     },
     "metadata": {},
     "output_type": "display_data"
    },
    {
     "data": {
      "text/plain": [
       "<meshplot.Viewer.Viewer at 0x10fc5ab40>"
      ]
     },
     "execution_count": 39,
     "metadata": {},
     "output_type": "execute_result"
    }
   ],
   "source": [
    "#### Read Mesh #####################\n",
    "dt = igl.read_off(\"cactus.off\")\n",
    "v = dt[0]\n",
    "f = dt[1]\n",
    "####################################\n",
    "\n",
    "#### Handles and Handle deformations ########\n",
    "h = np.array([2233,4558,3020,1796])\n",
    "eta = np.array([[0,1,0],[1,0,0],[1,0,0],[1,0,0]]).T\n",
    "theta = np.array([0,np.pi/10,0,np.pi/12])\n",
    "################################################\n",
    "\n",
    "##### Skinning Weights##########\n",
    "w = skinningweights(h,v,f,'InvDist') # Uncomment for InvDist weights\n",
    "#w = skinningweights(h,v,f,'BBW') # Uncomment for BBW weights. Remember to change the file to \n",
    "                                  # BBW_Cactus if using BBW weights.\n",
    "\n",
    "#defv = BlendWT(w,h,v,eta,theta,'LBS')  # Uncomment for LBS blending\n",
    "#defv = BlendWT(w,h,v,eta,theta,'LERP') # Uncomment for LERP\n",
    "defv = BlendWT(w,h,v,eta,theta,'SLERP') # Uncomment for SLERP\n",
    "\n",
    "plot(defv,f)"
   ]
  }
 ],
 "metadata": {
  "celltoolbar": "Raw Cell Format",
  "kernelspec": {
   "display_name": "Python 3",
   "language": "python",
   "name": "python3"
  },
  "language_info": {
   "codemirror_mode": {
    "name": "ipython",
    "version": 3
   },
   "file_extension": ".py",
   "mimetype": "text/x-python",
   "name": "python",
   "nbconvert_exporter": "python",
   "pygments_lexer": "ipython3",
   "version": "3.12.4"
  },
  "varInspector": {
   "cols": {
    "lenName": 16,
    "lenType": 16,
    "lenVar": 40
   },
   "kernels_config": {
    "python": {
     "delete_cmd_postfix": "",
     "delete_cmd_prefix": "del ",
     "library": "var_list.py",
     "varRefreshCmd": "print(var_dic_list())"
    },
    "r": {
     "delete_cmd_postfix": ") ",
     "delete_cmd_prefix": "rm(",
     "library": "var_list.r",
     "varRefreshCmd": "cat(var_dic_list()) "
    }
   },
   "types_to_exclude": [
    "module",
    "function",
    "builtin_function_or_method",
    "instance",
    "_Feature"
   ],
   "window_display": false
  }
 },
 "nbformat": 4,
 "nbformat_minor": 5
}
